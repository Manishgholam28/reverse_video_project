{
 "cells": [
  {
   "cell_type": "code",
   "execution_count": 106,
   "id": "e3be4958",
   "metadata": {},
   "outputs": [],
   "source": [
    "# Import the library \n",
    "import cv2"
   ]
  },
  {
   "cell_type": "code",
   "execution_count": 107,
   "id": "6a142bcb",
   "metadata": {},
   "outputs": [],
   "source": [
    "#Video Capture Instance\n",
    "cap = cv2.VideoCapture('sample.mp4')"
   ]
  },
  {
   "cell_type": "code",
   "execution_count": 108,
   "id": "61e67bfb",
   "metadata": {},
   "outputs": [],
   "source": [
    "#Properties of Video\n",
    "\n",
    "#Total number of frames in video\n",
    "frames = cap.get(cv2.CAP_PROP_FRAME_COUNT)"
   ]
  },
  {
   "cell_type": "code",
   "execution_count": 109,
   "id": "4100d028",
   "metadata": {},
   "outputs": [],
   "source": [
    "#Frames per second of video\n",
    "fps = cap.get(cv2.CAP_PROP_FPS)"
   ]
  },
  {
   "cell_type": "code",
   "execution_count": 110,
   "id": "475c11b8",
   "metadata": {},
   "outputs": [],
   "source": [
    "#height and width of video\n",
    "height = cap.get(cv2.CAP_PROP_FRAME_HEIGHT)\n",
    "width = cap.get(cv2.CAP_PROP_FRAME_WIDTH)"
   ]
  },
  {
   "cell_type": "code",
   "execution_count": 111,
   "id": "7849f18f",
   "metadata": {},
   "outputs": [],
   "source": [
    "#Initiating the Output writer for Video\n",
    "fourcc = cv2.VideoWriter_fourcc(*'MJPG')\n",
    "out = cv2.VideoWriter('reversed.avi', fourcc,fps ,(int(width*0.5), int(height*0.5)))"
   ]
  },
  {
   "cell_type": "code",
   "execution_count": 112,
   "id": "c9bc1a27",
   "metadata": {},
   "outputs": [
    {
     "name": "stdout",
     "output_type": "stream",
     "text": [
      "No. of frames are : 5320.0\n",
      "FPS is :30.0\n"
     ]
    }
   ],
   "source": [
    "print(\"No. of frames are : {}\".format(frames))\n",
    "print(\"FPS is :{}\".format(fps))"
   ]
  },
  {
   "cell_type": "code",
   "execution_count": 113,
   "id": "ce63193f",
   "metadata": {},
   "outputs": [],
   "source": [
    "# We get the index of the last frame of the video file\n",
    "frame_index = frames-1"
   ]
  },
  {
   "cell_type": "code",
   "execution_count": 114,
   "id": "fe1495c1",
   "metadata": {},
   "outputs": [
    {
     "name": "stdout",
     "output_type": "stream",
     "text": [
      "5300.0\n",
      "5200.0\n",
      "5100.0\n",
      "5000.0\n",
      "4900.0\n",
      "4800.0\n",
      "4700.0\n",
      "4600.0\n",
      "4500.0\n",
      "4400.0\n",
      "4300.0\n",
      "4200.0\n",
      "4100.0\n",
      "4000.0\n"
     ]
    }
   ],
   "source": [
    "#Checking if the video instance is ready\n",
    "if(cap.isOpened()):\n",
    "    #Readinx!g till the end of the video\n",
    "    while(frame_index!=0):\n",
    "        # We set the current frame position to last frame\n",
    "        cap.set(cv2.CAP_PROP_POS_FRAMES, frame_index)\n",
    "        ret, frame = cap.read()\n",
    "\n",
    "        #Resize the frame\n",
    "        frame = cv2.resize(frame,(int(width*0.5), int(height*0.5)))\n",
    "\n",
    "        #OPTIONAL : To show the reversing video\n",
    "        cv2.imshow('winname', frame)\n",
    "\n",
    "        #Writing the reversed video \n",
    "        out.write(frame)\n",
    "        #Decrementing Frame index at each step\n",
    "        frame_index = frame_index-1\n",
    "\n",
    "        #Printing the progress\n",
    "        if(frame_index%100==0):\n",
    "            print(frame_index)\n",
    "        if(cv2.waitKey(2)==ord('q')):\n",
    "            break\n",
    "out.release()\n",
    "cap.release()\n",
    "cv2.destroyAllWindows()            "
   ]
  },
  {
   "cell_type": "code",
   "execution_count": null,
   "id": "a5202964",
   "metadata": {},
   "outputs": [],
   "source": []
  },
  {
   "cell_type": "code",
   "execution_count": null,
   "id": "65cf53dc",
   "metadata": {},
   "outputs": [],
   "source": []
  }
 ],
 "metadata": {
  "kernelspec": {
   "display_name": "Python 3",
   "language": "python",
   "name": "python3"
  },
  "language_info": {
   "codemirror_mode": {
    "name": "ipython",
    "version": 3
   },
   "file_extension": ".py",
   "mimetype": "text/x-python",
   "name": "python",
   "nbconvert_exporter": "python",
   "pygments_lexer": "ipython3",
   "version": "3.8.8"
  }
 },
 "nbformat": 4,
 "nbformat_minor": 5
}
